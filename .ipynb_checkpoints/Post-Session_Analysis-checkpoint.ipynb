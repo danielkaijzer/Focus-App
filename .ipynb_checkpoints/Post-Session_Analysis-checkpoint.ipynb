{
 "cells": [
  {
   "cell_type": "code",
   "execution_count": 36,
   "id": "82eeb17b-202c-4f8d-aea0-f075d052c5b7",
   "metadata": {},
   "outputs": [],
   "source": [
    "import pandas as pd\n",
    "import numpy as np\n",
    "import matplotlib.pyplot as plt\n",
    "import seaborn as sns\n",
    "import tkinter as tk\n",
    "from scipy.ndimage import gaussian_filter"
   ]
  },
  {
   "cell_type": "code",
   "execution_count": 6,
   "id": "3d6ed87d-143d-430f-b6ec-01921f404782",
   "metadata": {},
   "outputs": [],
   "source": [
    "df = pd.read_csv(\"gaze_tracking_2025-02-08_00-00-25.csv\")"
   ]
  },
  {
   "cell_type": "code",
   "execution_count": null,
   "id": "7ee7ed4a-f86a-45d4-a371-81345924737b",
   "metadata": {},
   "outputs": [],
   "source": []
  },
  {
   "cell_type": "code",
   "execution_count": 8,
   "id": "944ab322-8e1b-499a-8f0b-4193816c73f5",
   "metadata": {},
   "outputs": [
    {
     "data": {
      "text/html": [
       "<div>\n",
       "<style scoped>\n",
       "    .dataframe tbody tr th:only-of-type {\n",
       "        vertical-align: middle;\n",
       "    }\n",
       "\n",
       "    .dataframe tbody tr th {\n",
       "        vertical-align: top;\n",
       "    }\n",
       "\n",
       "    .dataframe thead th {\n",
       "        text-align: right;\n",
       "    }\n",
       "</style>\n",
       "<table border=\"1\" class=\"dataframe\">\n",
       "  <thead>\n",
       "    <tr style=\"text-align: right;\">\n",
       "      <th></th>\n",
       "      <th>session_id</th>\n",
       "      <th>timestamp</th>\n",
       "      <th>screen_x</th>\n",
       "      <th>screen_y</th>\n",
       "    </tr>\n",
       "  </thead>\n",
       "  <tbody>\n",
       "    <tr>\n",
       "      <th>0</th>\n",
       "      <td>59bbc47f</td>\n",
       "      <td>1.738991e+09</td>\n",
       "      <td>1437</td>\n",
       "      <td>567</td>\n",
       "    </tr>\n",
       "    <tr>\n",
       "      <th>1</th>\n",
       "      <td>59bbc47f</td>\n",
       "      <td>1.738991e+09</td>\n",
       "      <td>1471</td>\n",
       "      <td>551</td>\n",
       "    </tr>\n",
       "    <tr>\n",
       "      <th>2</th>\n",
       "      <td>59bbc47f</td>\n",
       "      <td>1.738991e+09</td>\n",
       "      <td>1437</td>\n",
       "      <td>556</td>\n",
       "    </tr>\n",
       "    <tr>\n",
       "      <th>3</th>\n",
       "      <td>59bbc47f</td>\n",
       "      <td>1.738991e+09</td>\n",
       "      <td>1437</td>\n",
       "      <td>556</td>\n",
       "    </tr>\n",
       "    <tr>\n",
       "      <th>4</th>\n",
       "      <td>59bbc47f</td>\n",
       "      <td>1.738991e+09</td>\n",
       "      <td>1188</td>\n",
       "      <td>645</td>\n",
       "    </tr>\n",
       "  </tbody>\n",
       "</table>\n",
       "</div>"
      ],
      "text/plain": [
       "  session_id     timestamp  screen_x  screen_y\n",
       "0   59bbc47f  1.738991e+09      1437       567\n",
       "1   59bbc47f  1.738991e+09      1471       551\n",
       "2   59bbc47f  1.738991e+09      1437       556\n",
       "3   59bbc47f  1.738991e+09      1437       556\n",
       "4   59bbc47f  1.738991e+09      1188       645"
      ]
     },
     "execution_count": 8,
     "metadata": {},
     "output_type": "execute_result"
    }
   ],
   "source": [
    "df.head()"
   ]
  },
  {
   "cell_type": "code",
   "execution_count": 18,
   "id": "7827a7ee-a923-4634-8741-f79385c80719",
   "metadata": {},
   "outputs": [
    {
     "name": "stdout",
     "output_type": "stream",
     "text": [
      "Screen Width: 1710, Screen Height: 1107\n"
     ]
    }
   ],
   "source": [
    "root = tk.Tk()\n",
    "screen_width = root.winfo_screenwidth()\n",
    "screen_height = root.winfo_screenheight()\n",
    "root.destroy()  # Close the Tkinter window\n",
    "\n",
    "print(f\"Screen Width: {screen_width}, Screen Height: {screen_height}\")"
   ]
  },
  {
   "cell_type": "code",
   "execution_count": 20,
   "id": "5770937e-14d9-4b1c-bc01-e3604e1fd83c",
   "metadata": {},
   "outputs": [],
   "source": [
    "screen_width = 1710\n",
    "screen_height = 1107"
   ]
  },
  {
   "cell_type": "code",
   "execution_count": 22,
   "id": "551734bc-f83b-46c8-91a7-f9f71613f221",
   "metadata": {},
   "outputs": [],
   "source": [
    "screen_midpoint = screen_width // 2"
   ]
  },
  {
   "cell_type": "code",
   "execution_count": 24,
   "id": "97db93d2-7a95-47e3-88ce-976521a74bb3",
   "metadata": {},
   "outputs": [
    {
     "name": "stdout",
     "output_type": "stream",
     "text": [
      "Left side ratio: 81.73%\n",
      "Right side ratio: 18.27%\n"
     ]
    }
   ],
   "source": [
    "left_side_count = (df['screen_x'] < screen_midpoint).sum()\n",
    "right_side_count = (df['screen_x'] >= screen_midpoint).sum()\n",
    "\n",
    "total_time = len(df)  # Total number of timestamps\n",
    "left_ratio = left_side_count / total_time\n",
    "right_ratio = right_side_count / total_time\n",
    "\n",
    "print(f\"Left side ratio: {left_ratio:.2%}\")\n",
    "print(f\"Right side ratio: {right_ratio:.2%}\")"
   ]
  },
  {
   "cell_type": "code",
   "execution_count": 32,
   "id": "0a5b3522-4a9c-4496-b94f-f5f7d572ee1b",
   "metadata": {},
   "outputs": [],
   "source": [
    "# labels = ['Left Side', 'Right Side']\n",
    "# values = [left_ratio, right_ratio]\n",
    "\n",
    "# plt.bar(labels, values)\n",
    "# plt.ylabel('Percentage of Time Spent')\n",
    "# plt.title('Time Spent on Left vs. Right Side of the Screen')\n",
    "# plt.show()"
   ]
  },
  {
   "cell_type": "code",
   "execution_count": 34,
   "id": "e37e191b-d661-456e-8125-8c1515e059e5",
   "metadata": {},
   "outputs": [
    {
     "data": {
      "image/png": "[encoded data removed]",
      "text/plain": [
       "<Figure size 1000x600 with 2 Axes>"
      ]
     },
     "metadata": {},
     "output_type": "display_data"
    }
   ],
   "source": [
    "# Create a 2D heatmap matrix\n",
    "heatmap, x_edges, y_edges = np.histogram2d(df['screen_x'], df['screen_y'], bins=[screen_width // 10, screen_height // 10])\n",
    "\n",
    "# Plot heatmap\n",
    "plt.figure(figsize=(10, 6))  # Adjust based on screen size\n",
    "sns.heatmap(heatmap.T, cmap='inferno', xticklabels=False, yticklabels=False, cbar=True)\n",
    "\n",
    "# Remove axis labels\n",
    "plt.axis(\"off\")\n",
    "\n",
    "# Save the heatmap as an image\n",
    "plt.savefig(\"gaze_heatmap.png\", dpi=300, bbox_inches='tight', pad_inches=0)\n",
    "\n",
    "# Show heatmap\n",
    "plt.show()"
   ]
  },
  {
   "cell_type": "code",
   "execution_count": null,
   "id": "b2cb414a-f5f7-4141-9e55-a5856a713336",
   "metadata": {},
   "outputs": [],
   "source": [
    "# HEATMAP OVER IMAGE\n",
    "\n",
    "# Flip Y-axis (Matplotlib uses top-left origin, screen is bottom-left)\n",
    "df['screen_y'] = screen_height - df['screen_y']\n",
    "\n",
    "# Create a 2D heatmap matrix with binning\n",
    "heatmap, x_edges, y_edges = np.histogram2d(df['screen_x'], df['screen_y'], bins=[screen_width // 20, screen_height // 20])\n",
    "\n",
    "# Apply Gaussian blur for smoother visualization\n",
    "heatmap = gaussian_filter(heatmap, sigma=5)  # Adjust sigma for more/less blurring\n",
    "\n",
    "# Load the screenshot (Ensure it's 1710x1107)\n",
    "screenshot_path = \"test_screenshot.png\"  # CHANGE THIS TO YOUR SCREENSHOT FILE\n",
    "background = cv2.imread(screenshot_path)\n",
    "background = cv2.cvtColor(background, cv2.COLOR_BGR2RGB)  # Convert BGR (OpenCV) to RGB (Matplotlib)\n",
    "\n",
    "# Plot setup\n",
    "fig, ax = plt.subplots(figsize=(10, 6))\n",
    "ax.imshow(background, extent=[0, screen_width, 0, screen_height])  # Set background image\n",
    "\n",
    "# Overlay heatmap\n",
    "sns.heatmap(heatmap.T, cmap=\"jet\", alpha=0.6, xticklabels=False, yticklabels=False, cbar=True)\n",
    "\n",
    "# Remove axis labels\n",
    "plt.axis(\"off\")\n",
    "\n",
    "# Save the overlay image\n",
    "plt.savefig(\"gaze_heatmap_overlay.png\", dpi=300, bbox_inches='tight', pad_inches=0, transparent=True)\n",
    "\n",
    "# Show plot\n",
    "plt.show()"
   ]
  }
 ],
 "metadata": {
  "kernelspec": {
   "display_name": "Python 3 (ipykernel)",
   "language": "python",
   "name": "python3"
  },
  "language_info": {
   "codemirror_mode": {
    "name": "ipython",
    "version": 3
   },
   "file_extension": ".py",
   "mimetype": "text/x-python",
   "name": "python",
   "nbconvert_exporter": "python",
   "pygments_lexer": "ipython3",
   "version": "3.11.0"
  }
 },
 "nbformat": 4,
 "nbformat_minor": 5
}
